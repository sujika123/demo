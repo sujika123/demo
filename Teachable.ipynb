{
  "nbformat": 4,
  "nbformat_minor": 0,
  "metadata": {
    "colab": {
      "name": "Teachable.ipynb",
      "provenance": [],
      "collapsed_sections": [],
      "authorship_tag": "ABX9TyMZ8YztRG2JBCxJhP43y/IS",
      "include_colab_link": true
    },
    "kernelspec": {
      "name": "python3",
      "display_name": "Python 3"
    },
    "language_info": {
      "name": "python"
    }
  },
  "cells": [
    {
      "cell_type": "markdown",
      "metadata": {
        "id": "view-in-github",
        "colab_type": "text"
      },
      "source": [
        "<a href=\"https://colab.research.google.com/github/sujika123/demo/blob/main/Teachable.ipynb\" target=\"_parent\"><img src=\"https://colab.research.google.com/assets/colab-badge.svg\" alt=\"Open In Colab\"/></a>"
      ]
    },
    {
      "cell_type": "code",
      "execution_count": null,
      "metadata": {
        "colab": {
          "base_uri": "https://localhost:8080/"
        },
        "id": "ANCScZcgFPuB",
        "outputId": "cf9c8d75-cba1-499a-c0a0-a7d4040f06b3"
      },
      "outputs": [
        {
          "output_type": "stream",
          "name": "stdout",
          "text": [
            "1\n",
            "2\n",
            "3\n",
            "4\n",
            "5\n",
            "6\n",
            "7\n",
            "8\n",
            "9\n",
            "10\n"
          ]
        }
      ],
      "source": [
        "#Print first n natural numbers\n",
        "for i in range(1,11,1):\n",
        "  print(i)"
      ]
    },
    {
      "cell_type": "code",
      "source": [
        ""
      ],
      "metadata": {
        "id": "OGDBCngOGpCX"
      },
      "execution_count": null,
      "outputs": []
    },
    {
      "cell_type": "code",
      "source": [
        "#Print first n natural numbers in revers order\n",
        "for i in range(10,0,-1):\n",
        "  print(i)"
      ],
      "metadata": {
        "colab": {
          "base_uri": "https://localhost:8080/"
        },
        "id": "RhaVk-yKF591",
        "outputId": "8b0c42ab-394e-4e8d-f49c-acfdfe83766a"
      },
      "execution_count": null,
      "outputs": [
        {
          "output_type": "stream",
          "name": "stdout",
          "text": [
            "10\n",
            "9\n",
            "8\n",
            "7\n",
            "6\n",
            "5\n",
            "4\n",
            "3\n",
            "2\n",
            "1\n"
          ]
        }
      ]
    },
    {
      "cell_type": "code",
      "source": [
        "#sum of all numbers from 1 to a given number\n",
        "n=int(input(\"Enter a number:\"))\n",
        "s=0\n",
        "for i in range(1,n+1,1):\n",
        "  s=s+i\n",
        "print(s)  "
      ],
      "metadata": {
        "colab": {
          "base_uri": "https://localhost:8080/"
        },
        "id": "fI8qY93DGtZv",
        "outputId": "71473921-77ea-403c-c466-7c8e4cefb424"
      },
      "execution_count": null,
      "outputs": [
        {
          "output_type": "stream",
          "name": "stdout",
          "text": [
            "Enter a number:11\n",
            "66\n"
          ]
        }
      ]
    },
    {
      "cell_type": "code",
      "source": [
        "#multiplication table of a given number\n",
        "n=int(input(\"Enter a number:\"))\n",
        "for i in range(1,11,1):\n",
        "   p=i*n\n",
        "   print(p)"
      ],
      "metadata": {
        "colab": {
          "base_uri": "https://localhost:8080/"
        },
        "id": "ai2J1TK6IJL8",
        "outputId": "be1a5346-fdf4-4b13-e958-c17554362437"
      },
      "execution_count": null,
      "outputs": [
        {
          "output_type": "stream",
          "name": "stdout",
          "text": [
            "Enter a number:8\n",
            "8\n",
            "16\n",
            "24\n",
            "32\n",
            "40\n",
            "48\n",
            "56\n",
            "64\n",
            "72\n",
            "80\n"
          ]
        }
      ]
    },
    {
      "cell_type": "code",
      "source": [
        "#multiplication table of a given number\n",
        "n=int(input(\"Enter a number:\"))\n",
        "for i in range(1,11,1):\n",
        "   print(n,'*', i ,'=', n*i)"
      ],
      "metadata": {
        "colab": {
          "base_uri": "https://localhost:8080/"
        },
        "id": "mCHUNnv2Jayb",
        "outputId": "6beb14e9-72b3-4ef5-9fe4-64c12de220b3"
      },
      "execution_count": null,
      "outputs": [
        {
          "output_type": "stream",
          "name": "stdout",
          "text": [
            "Enter a number:6\n",
            "6 * 1 = 6\n",
            "6 * 2 = 12\n",
            "6 * 3 = 18\n",
            "6 * 4 = 24\n",
            "6 * 5 = 30\n",
            "6 * 6 = 36\n",
            "6 * 7 = 42\n",
            "6 * 8 = 48\n",
            "6 * 9 = 54\n",
            "6 * 10 = 60\n"
          ]
        }
      ]
    },
    {
      "cell_type": "code",
      "source": [
        ""
      ],
      "metadata": {
        "id": "VJ7hPS7SByn1"
      },
      "execution_count": null,
      "outputs": []
    },
    {
      "cell_type": "code",
      "source": [
        "*#Display numbers from a list using loop\n",
        "list=[1,9,55,22,78,23,5,89]\n",
        "for i in range(0,8,1):\n",
        "  print(list[i])\n"
      ],
      "metadata": {
        "colab": {
          "base_uri": "https://localhost:8080/"
        },
        "id": "bsHTl2_CKGCk",
        "outputId": "ff223258-b467-4260-9931-06d460467751"
      },
      "execution_count": null,
      "outputs": [
        {
          "output_type": "stream",
          "name": "stdout",
          "text": [
            "1\n",
            "9\n",
            "55\n",
            "22\n",
            "78\n",
            "23\n",
            "5\n",
            "89\n"
          ]
        }
      ]
    },
    {
      "cell_type": "code",
      "source": [
        "#list in reverse order using a loop\n",
        "list=[55,90,78,12,45,2,88,5,99]\n",
        "for i in range(8,-1,-1):\n",
        "  print(list[i])"
      ],
      "metadata": {
        "colab": {
          "base_uri": "https://localhost:8080/"
        },
        "id": "RvIW6PPhLDy6",
        "outputId": "56d8563d-a1fd-4e33-d5dd-87e7ac8ccadd"
      },
      "execution_count": null,
      "outputs": [
        {
          "output_type": "stream",
          "name": "stdout",
          "text": [
            "99\n",
            "5\n",
            "88\n",
            "2\n",
            "45\n",
            "12\n",
            "78\n",
            "90\n",
            "55\n"
          ]
        }
      ]
    },
    {
      "cell_type": "code",
      "source": [
        "#total number of digits in a number\n",
        "n=input(\"Enter the number\")\n",
        "count=0\n",
        "for i in range(len(n)):\n",
        "  count+=1\n",
        "print(count)  \n",
        "  "
      ],
      "metadata": {
        "id": "Mz9IDRXRMF8Y",
        "colab": {
          "base_uri": "https://localhost:8080/"
        },
        "outputId": "afeb8e20-66aa-48b9-8521-508b4796e6e9"
      },
      "execution_count": null,
      "outputs": [
        {
          "output_type": "stream",
          "name": "stdout",
          "text": [
            "Enter the number456327\n",
            "6\n"
          ]
        }
      ]
    },
    {
      "cell_type": "code",
      "source": [
        "#numbers from -10 to -1 using for loop\n",
        "for i in range(-10,0,1):\n",
        "  print(i)\n"
      ],
      "metadata": {
        "colab": {
          "base_uri": "https://localhost:8080/"
        },
        "id": "bxLkCvpnMsSb",
        "outputId": "e1d99875-b7cc-43f0-fa6e-abc4612828b5"
      },
      "execution_count": null,
      "outputs": [
        {
          "output_type": "stream",
          "name": "stdout",
          "text": [
            "-10\n",
            "-9\n",
            "-8\n",
            "-7\n",
            "-6\n",
            "-5\n",
            "-4\n",
            "-3\n",
            "-2\n",
            "-1\n"
          ]
        }
      ]
    },
    {
      "cell_type": "code",
      "source": [
        "#Use else block to display a message “Done” after successful execution of for loop\n"
      ],
      "metadata": {
        "id": "pRR4zjavN2c9"
      },
      "execution_count": null,
      "outputs": []
    },
    {
      "cell_type": "code",
      "source": [
        "#Check prime number\n",
        "n=int(input(\"Enter a number : \"))\n",
        "f=0\n",
        "if(n==0)or(n==1):\n",
        "  print(\"Not Prime number\")\n",
        "else:\n",
        "  for i in range(2,n-1,1):\n",
        "    if(n%i==0): \n",
        "      f=1\n",
        "  if(f==0):\n",
        "   print(\"Prime number\")\n",
        "  else:\n",
        "   print(\"Not Prime number\")  \n"
      ],
      "metadata": {
        "colab": {
          "base_uri": "https://localhost:8080/"
        },
        "id": "CmTnPjFfOAlf",
        "outputId": "09047ef6-7f78-4dbb-f01f-5c29b5f5d4f8"
      },
      "execution_count": null,
      "outputs": [
        {
          "output_type": "stream",
          "name": "stdout",
          "text": [
            "Enter a number : 83\n",
            "Prime number\n"
          ]
        }
      ]
    },
    {
      "cell_type": "code",
      "source": [
        ""
      ],
      "metadata": {
        "id": "AzUAK6_pne5v"
      },
      "execution_count": null,
      "outputs": []
    },
    {
      "cell_type": "code",
      "source": [
        "#display all prime numbers within a range\n",
        "r=int(input(\"Enter a range : \"))\n",
        "f=0\n",
        "print(\"Prime Numbers\")\n",
        "for i in range(2,r+1,len(r)):\n",
        " if(i==0)or(i==1):\n",
        "    f=1\n",
        " else:\n",
        "  for j in range(2,i-1,1):\n",
        "    if(i%j==0): \n",
        "      f=1\n",
        "      \n",
        "    if(f==0):\n",
        "     print(\"i\")\n",
        " "
      ],
      "metadata": {
        "colab": {
          "base_uri": "https://localhost:8080/"
        },
        "id": "-V9gjzJNR7nx",
        "outputId": "23a38412-970c-4832-fb20-d38d4ca0b9a7"
      },
      "execution_count": null,
      "outputs": [
        {
          "output_type": "stream",
          "name": "stdout",
          "text": [
            "Enter a range : 9\n",
            "Prime Numbers\n"
          ]
        }
      ]
    },
    {
      "cell_type": "code",
      "source": [
        ""
      ],
      "metadata": {
        "id": "RnMes3EcMtSY",
        "colab": {
          "base_uri": "https://localhost:8080/"
        },
        "outputId": "b1d925d0-80cd-436e-f6bc-9789c6a3176f"
      },
      "execution_count": null,
      "outputs": [
        {
          "output_type": "stream",
          "name": "stdout",
          "text": [
            "7\n"
          ]
        }
      ]
    },
    {
      "cell_type": "code",
      "source": [
        ""
      ],
      "metadata": {
        "id": "bRNZZC-3MoRm"
      },
      "execution_count": null,
      "outputs": []
    },
    {
      "cell_type": "code",
      "source": [
        "# Fibonacci series up to 10 terms\n",
        "a=0\n",
        "b=1\n",
        "\n",
        "print(a)\n",
        "print(b)\n",
        "for c in range(0,10,1):\n",
        "   c=a+b\n",
        "   print(c)\n",
        "   a=b\n",
        "   b=c\n"
      ],
      "metadata": {
        "colab": {
          "base_uri": "https://localhost:8080/"
        },
        "id": "hBpw1u7gVJK9",
        "outputId": "dfe2def9-016c-4699-afd7-3ee8e203a5bb"
      },
      "execution_count": null,
      "outputs": [
        {
          "output_type": "stream",
          "name": "stdout",
          "text": [
            "0\n",
            "1\n",
            "1\n",
            "2\n",
            "3\n",
            "5\n",
            "8\n",
            "13\n",
            "21\n",
            "34\n",
            "55\n",
            "89\n"
          ]
        }
      ]
    },
    {
      "cell_type": "code",
      "source": [
        "#factorial of a given number\n",
        "n=int(input(\"Enter a number:\"))\n",
        "fact=1\n",
        "for i in range(1,n+1,1):\n",
        "  fact=fact*i\n",
        "print(fact)  \n"
      ],
      "metadata": {
        "colab": {
          "base_uri": "https://localhost:8080/"
        },
        "id": "djwoz1RJWQrL",
        "outputId": "79dc191b-d0d4-4abd-8aba-c642aa02a5ed"
      },
      "execution_count": null,
      "outputs": [
        {
          "output_type": "stream",
          "name": "stdout",
          "text": [
            "Enter a number:5\n",
            "120\n"
          ]
        }
      ]
    },
    {
      "cell_type": "code",
      "source": [
        "#Reverse a given integer number\n",
        "n=int(input(\"Enter a number:\"))\n",
        "a=0\n",
        "m=0\n",
        "for n in range(n>0):\n",
        "  a=n%10\n",
        "  m=m*10+a\n",
        "  n=n//10\n",
        "print(+m)  "
      ],
      "metadata": {
        "colab": {
          "base_uri": "https://localhost:8080/"
        },
        "id": "bQdnmWdTXo7o",
        "outputId": "76d7c9d9-b4a5-4d31-b7da-e24cf5f57213"
      },
      "execution_count": null,
      "outputs": [
        {
          "output_type": "stream",
          "name": "stdout",
          "text": [
            "Enter a number:765\n",
            "0\n"
          ]
        }
      ]
    },
    {
      "cell_type": "code",
      "source": [
        "#Reverse a given integer number\n",
        "n=int(input(\"Enter a number:\"))\n",
        "a=0\n",
        "m=0\n",
        "while n>0:\n",
        "  a=n%10\n",
        "  m=m*10+a\n",
        "  n=n//10\n",
        "print(+m)  "
      ],
      "metadata": {
        "colab": {
          "base_uri": "https://localhost:8080/"
        },
        "id": "Z3RAjhg0HhhO",
        "outputId": "3e09df2c-c8f0-4eee-ad9e-1a9ac3b6bd87"
      },
      "execution_count": null,
      "outputs": [
        {
          "output_type": "stream",
          "name": "stdout",
          "text": [
            "Enter a number:5438\n",
            "8345\n"
          ]
        }
      ]
    },
    {
      "cell_type": "code",
      "source": [
        "#Use a loop to display elements from a given list present at odd index positions\n",
        "list=[23,89,95,99,45,32,5,12,77,18,20,64]\n",
        "for i in range(0,12,1):\n",
        "  if(i%2!=0):\n",
        "    print(list[i])\n"
      ],
      "metadata": {
        "id": "uXUU7z1hYlCh",
        "colab": {
          "base_uri": "https://localhost:8080/"
        },
        "outputId": "436885d0-eb2a-4622-b673-604a98a79609"
      },
      "execution_count": null,
      "outputs": [
        {
          "output_type": "stream",
          "name": "stdout",
          "text": [
            "89\n",
            "99\n",
            "32\n",
            "12\n",
            "18\n",
            "64\n"
          ]
        }
      ]
    },
    {
      "cell_type": "code",
      "source": [
        "#cube of all numbers from 1 to a given number\n",
        "n=int(input(\"Enter a number:\"))\n",
        "print(\"Cube of numbers\")\n",
        "for i in range(1,n+1,1):\n",
        "  c=i*i*i\n",
        "  print(c)\n"
      ],
      "metadata": {
        "colab": {
          "base_uri": "https://localhost:8080/"
        },
        "id": "EmkOIinSbjXr",
        "outputId": "fe1d3e63-3382-40ac-dd48-9b939ff7e116"
      },
      "execution_count": null,
      "outputs": [
        {
          "output_type": "stream",
          "name": "stdout",
          "text": [
            "Enter a number:10\n",
            "Cube of numbers\n",
            "1\n",
            "8\n",
            "27\n",
            "64\n",
            "125\n",
            "216\n",
            "343\n",
            "512\n",
            "729\n",
            "1000\n"
          ]
        }
      ]
    },
    {
      "cell_type": "code",
      "source": [
        "#sum of the series upto n terms\n",
        "\n",
        "\n"
      ],
      "metadata": {
        "id": "cjIfe8bhbTuI"
      },
      "execution_count": null,
      "outputs": []
    },
    {
      "cell_type": "code",
      "source": [
        "#pyramid pattern\n",
        "n=5\n",
        "for i in range(0,n,1):\n",
        "  for j in range(0,i+1,1):\n",
        "    print(\"*\",end=\" \")\n",
        "  print(\"\\r\") \n",
        "  #\\r==new row,\\n==newline\n"
      ],
      "metadata": {
        "colab": {
          "base_uri": "https://localhost:8080/"
        },
        "id": "ZUDkAdCSdVzK",
        "outputId": "de51feee-ac48-4fe9-9a13-e1554be77ee0"
      },
      "execution_count": null,
      "outputs": [
        {
          "output_type": "stream",
          "name": "stdout",
          "text": [
            "* \r\n",
            "* * \r\n",
            "* * * \r\n",
            "* * * * \r\n",
            "* * * * * \r\n"
          ]
        }
      ]
    },
    {
      "cell_type": "code",
      "source": [
        "#pyramid pattern\n",
        "n=5\n",
        "for i in range(0,n,1):\n",
        "  for j in range(1,i+2,1):\n",
        "    print(j,end=\" \")\n",
        "  print(\"\\r\") "
      ],
      "metadata": {
        "colab": {
          "base_uri": "https://localhost:8080/"
        },
        "id": "Lpu_jQqrObvq",
        "outputId": "8873cdb3-fca1-4b10-b59f-d74fb688db61"
      },
      "execution_count": null,
      "outputs": [
        {
          "output_type": "stream",
          "name": "stdout",
          "text": [
            "1 \r\n",
            "1 2 \r\n",
            "1 2 3 \r\n",
            "1 2 3 4 \r\n",
            "1 2 3 4 5 \r\n"
          ]
        }
      ]
    },
    {
      "cell_type": "code",
      "source": [
        "# Pyramid pattern\n",
        "n=5\n",
        "k = 2*n - 2\n",
        "for i in range(0,n):\n",
        "  for j in range(0,k):\n",
        "    print(end=\" \")\n",
        "  k=k-2\n",
        "  for j in range(0,i+1):\n",
        "      print(\"* \",end=\"\")\n",
        "  print(\"\\r\")"
      ],
      "metadata": {
        "id": "bd1z6bJqPJ_y",
        "outputId": "c875455d-2b54-4281-d3bf-7a8cee09479f",
        "colab": {
          "base_uri": "https://localhost:8080/"
        }
      },
      "execution_count": null,
      "outputs": [
        {
          "output_type": "stream",
          "name": "stdout",
          "text": [
            "        * \r\n",
            "      * * \r\n",
            "    * * * \r\n",
            "  * * * * \r\n",
            "* * * * * \r\n"
          ]
        }
      ]
    },
    {
      "cell_type": "code",
      "source": [
        "# Pyramid Pattern\n",
        "n=5\n",
        "k=n-1\n",
        "for i in range(0,n):\n",
        "  for j in range(0,k):\n",
        "    print(end=\" \")\n",
        "  k=k-1\n",
        "  for j in range(0,i+1):\n",
        "    print(\"* \", end=\"\")\n",
        "  print(\"\\r\")  \n"
      ],
      "metadata": {
        "colab": {
          "base_uri": "https://localhost:8080/"
        },
        "id": "nZPMCpbKP11t",
        "outputId": "b86f1988-3267-41ce-b12b-926beed035f7"
      },
      "execution_count": null,
      "outputs": [
        {
          "output_type": "stream",
          "name": "stdout",
          "text": [
            "    * \r\n",
            "   * * \r\n",
            "  * * * \r\n",
            " * * * * \r\n",
            "* * * * * \r\n"
          ]
        }
      ]
    },
    {
      "cell_type": "code",
      "source": [
        ""
      ],
      "metadata": {
        "id": "ZXKMJFw9Bi_V"
      },
      "execution_count": null,
      "outputs": []
    }
  ]
}